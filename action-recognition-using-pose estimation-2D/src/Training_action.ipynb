{
  "nbformat": 4,
  "nbformat_minor": 0,
  "metadata": {
    "colab": {
      "name": "Training_action.ipynb",
      "provenance": []
    },
    "kernelspec": {
      "name": "python3",
      "display_name": "Python 3"
    },
    "accelerator": "TPU"
  },
  "cells": [
    {
      "cell_type": "code",
      "metadata": {
        "id": "qypj0UUjgcWK",
        "colab_type": "code",
        "outputId": "b3521af1-a026-4eb0-a325-b894aa4fd5ce",
        "colab": {
          "base_uri": "https://localhost:8080/",
          "height": 122
        }
      },
      "source": [
        "from google.colab import drive\n",
        "\n",
        "drive.mount(\"/content/my_drive/\")"
      ],
      "execution_count": 1,
      "outputs": [
        {
          "output_type": "stream",
          "text": [
            "Go to this URL in a browser: https://accounts.google.com/o/oauth2/auth?client_id=947318989803-6bn6qk8qdgf4n4g3pfee6491hc0brc4i.apps.googleusercontent.com&redirect_uri=urn%3aietf%3awg%3aoauth%3a2.0%3aoob&response_type=code&scope=email%20https%3a%2f%2fwww.googleapis.com%2fauth%2fdocs.test%20https%3a%2f%2fwww.googleapis.com%2fauth%2fdrive%20https%3a%2f%2fwww.googleapis.com%2fauth%2fdrive.photos.readonly%20https%3a%2f%2fwww.googleapis.com%2fauth%2fpeopleapi.readonly\n",
            "\n",
            "Enter your authorization code:\n",
            "··········\n",
            "Mounted at /content/my_drive/\n"
          ],
          "name": "stdout"
        }
      ]
    },
    {
      "cell_type": "code",
      "metadata": {
        "id": "3_SBuR64itSE",
        "colab_type": "code",
        "colab": {}
      },
      "source": [
        "import os\n",
        "os.chdir('/content/my_drive/My Drive/google_colab_experiment')"
      ],
      "execution_count": 0,
      "outputs": []
    },
    {
      "cell_type": "code",
      "metadata": {
        "id": "94Cf9zQDXAE2",
        "colab_type": "code",
        "colab": {
          "base_uri": "https://localhost:8080/",
          "height": 34
        },
        "outputId": "48ec8510-91d0-4886-dd17-4dce56b4c636"
      },
      "source": [
        "print(os.getcwd())"
      ],
      "execution_count": 3,
      "outputs": [
        {
          "output_type": "stream",
          "text": [
            "/content/my_drive/My Drive/google_colab_experiment\n"
          ],
          "name": "stdout"
        }
      ]
    },
    {
      "cell_type": "code",
      "metadata": {
        "id": "Fmb4dFYsitVg",
        "colab_type": "code",
        "colab": {}
      },
      "source": [
        "#import argparse\n",
        "import os\n",
        "import pandas as pd\n",
        "import numpy as np\n",
        "import matplotlib.pyplot as plt\n",
        "import mylib.data_preprocessing as dpp\n",
        "from keras.callbacks import ModelCheckpoint\n",
        "from sklearn.metrics import confusion_matrix\n",
        "\n",
        "from sklearn.preprocessing import LabelEncoder\n",
        "from sklearn.model_selection import train_test_split\n",
        "\n",
        "from keras.utils import np_utils\n",
        "from keras.models import load_model\n",
        "\n",
        "from keras.models import Sequential\n",
        "from keras.layers import Dense\n",
        "from keras.layers.normalization import BatchNormalization\n",
        "from keras.optimizers import Adam, SGD\n",
        "from keras.layers import LeakyReLU\n",
        "import seaborn as sb"
      ],
      "execution_count": 0,
      "outputs": []
    },
    {
      "cell_type": "code",
      "metadata": {
        "id": "MGddq_m2j0fO",
        "colab_type": "code",
        "outputId": "907c1c45-adae-4d69-e10e-23942202e3f4",
        "colab": {
          "base_uri": "https://localhost:8080/",
          "height": 34
        }
      },
      "source": [
        "input_path = \"/content/my_drive/My Drive/google_colab_experiment/data/skeleton_raw.csv\"\n",
        "print(input_path)"
      ],
      "execution_count": 5,
      "outputs": [
        {
          "output_type": "stream",
          "text": [
            "/content/my_drive/My Drive/google_colab_experiment/data/skeleton_raw.csv\n"
          ],
          "name": "stdout"
        }
      ]
    },
    {
      "cell_type": "code",
      "metadata": {
        "id": "V8G5VVD_lkMN",
        "colab_type": "code",
        "colab": {}
      },
      "source": [
        "try:\n",
        "  raw_data = pd.read_csv(input_path, header=0)\n",
        "except:\n",
        "  print(\"read data error.\")"
      ],
      "execution_count": 0,
      "outputs": []
    },
    {
      "cell_type": "code",
      "metadata": {
        "id": "UT_PM5kslkPM",
        "colab_type": "code",
        "outputId": "6f95e327-0f11-4cff-c1aa-b768bb99de06",
        "colab": {
          "base_uri": "https://localhost:8080/",
          "height": 51
        }
      },
      "source": [
        "# X: input, Y: output\n",
        "dataset = raw_data.values\n",
        "X = dataset[:, 0:36].astype(float)\n",
        "Y = dataset[:, 36]\n",
        "print(X.shape)\n",
        "print(Y.shape)"
      ],
      "execution_count": 7,
      "outputs": [
        {
          "output_type": "stream",
          "text": [
            "(3916, 36)\n",
            "(3916,)\n"
          ],
          "name": "stdout"
        }
      ]
    },
    {
      "cell_type": "code",
      "metadata": {
        "id": "bzBWGj6bkrzt",
        "colab_type": "code",
        "colab": {}
      },
      "source": [
        "class_name = ['kick', 'punch', 'squat', 'stand', 'wave']"
      ],
      "execution_count": 0,
      "outputs": []
    },
    {
      "cell_type": "code",
      "metadata": {
        "id": "mpxtvrYXlkSk",
        "colab_type": "code",
        "colab": {}
      },
      "source": [
        "X_pp = []\n",
        "for i in range(len(X)):\n",
        "  X_pp.append(dpp.pose_normalization(X[i]))\n",
        "X_pp = np.array(X_pp)"
      ],
      "execution_count": 0,
      "outputs": []
    },
    {
      "cell_type": "code",
      "metadata": {
        "id": "c0dgpXi4ml5c",
        "colab_type": "code",
        "outputId": "d2c6f85d-f797-42e5-a77d-2a20d5856f66",
        "colab": {
          "base_uri": "https://localhost:8080/",
          "height": 119
        }
      },
      "source": [
        "encoder = LabelEncoder()\n",
        "encoder_Y = encoder.fit_transform(Y)\n",
        "one_hot_Y = np_utils.to_categorical(encoder_Y)\n",
        "print(Y[0], \": \", encoder_Y[0])\n",
        "print(Y[650], \": \", encoder_Y[650])\n",
        "print(Y[1300], \": \", encoder_Y[1300])\n",
        "print(Y[1950], \": \", encoder_Y[1950])\n",
        "print(Y[2600], \": \", encoder_Y[2600])\n",
        "\n",
        "print(encoder_Y[0], \": \", one_hot_Y[0])"
      ],
      "execution_count": 10,
      "outputs": [
        {
          "output_type": "stream",
          "text": [
            "kick :  0\n",
            "kick :  0\n",
            "punch :  1\n",
            "squat :  2\n",
            "stand :  3\n",
            "0 :  [1. 0. 0. 0. 0.]\n"
          ],
          "name": "stdout"
        }
      ]
    },
    {
      "cell_type": "code",
      "metadata": {
        "id": "ly8jVI3fjasy",
        "colab_type": "code",
        "colab": {}
      },
      "source": [
        "X_train, X_test, Y_train, Y_test = train_test_split(X_pp, one_hot_Y, test_size=0.1, random_state=42)"
      ],
      "execution_count": 0,
      "outputs": []
    },
    {
      "cell_type": "code",
      "metadata": {
        "id": "Su7frW8JqVSq",
        "colab_type": "code",
        "colab": {
          "base_uri": "https://localhost:8080/",
          "height": 34
        },
        "outputId": "cdede729-9f78-4015-f8bc-f45c577e866b"
      },
      "source": [
        "X_val, Y_val = X_train[3200:, :], Y_train[3200:, :]\n",
        "X_train, Y_train = X_train[:3200, :], Y_train[:3200, :]\n",
        "print(X_train.shape, Y_train.shape)"
      ],
      "execution_count": 12,
      "outputs": [
        {
          "output_type": "stream",
          "text": [
            "(3200, 26) (3200, 5)\n"
          ],
          "name": "stdout"
        }
      ]
    },
    {
      "cell_type": "code",
      "metadata": {
        "id": "dXPxvBq4VBDX",
        "colab_type": "code",
        "colab": {}
      },
      "source": [
        "model = Sequential()\n",
        "model.add(Dense(units=128, activation='relu'))\n",
        "model.add(BatchNormalization())\n",
        "model.add(Dense(units=64, activation='relu'))\n",
        "model.add(BatchNormalization())\n",
        "model.add(Dense(units=16, activation='relu'))\n",
        "model.add(BatchNormalization())\n",
        "model.add(Dense(units=5, activation='softmax'))"
      ],
      "execution_count": 0,
      "outputs": []
    },
    {
      "cell_type": "code",
      "metadata": {
        "id": "cyrE2G3SpIwT",
        "colab_type": "code",
        "colab": {}
      },
      "source": [
        "#callbacks\n",
        "filepath = 'action_recognition.hdf5'\n",
        "\n",
        "checkpoint = ModelCheckpoint(filepath,\n",
        "                             monitor = 'val_acc',\n",
        "                             verbose = 1,\n",
        "                             save_best_only = True,\n",
        "                             mode = 'max')\n",
        "\n",
        "callbacks_list = [checkpoint]"
      ],
      "execution_count": 0,
      "outputs": []
    },
    {
      "cell_type": "code",
      "metadata": {
        "id": "r6gmJZ-zVBJL",
        "colab_type": "code",
        "colab": {}
      },
      "source": [
        "model.compile(optimizer=Adam(0.0001), loss='categorical_crossentropy', metrics=['accuracy'])"
      ],
      "execution_count": 0,
      "outputs": []
    },
    {
      "cell_type": "code",
      "metadata": {
        "id": "GXs6t7K6VBNO",
        "colab_type": "code",
        "colab": {
          "base_uri": "https://localhost:8080/",
          "height": 1000
        },
        "outputId": "1bbfd03f-ab95-4882-85ad-0ab5481fc7de"
      },
      "source": [
        "His = model.fit(X_train, Y_train, batch_size=32, epochs=50, verbose=1, validation_data=(X_test, Y_test), callbacks=callbacks_list)"
      ],
      "execution_count": 28,
      "outputs": [
        {
          "output_type": "stream",
          "text": [
            "Train on 3200 samples, validate on 392 samples\n",
            "Epoch 1/50\n",
            "3200/3200 [==============================] - 1s 244us/step - loss: 0.0019 - accuracy: 0.9994 - val_loss: 0.0022 - val_accuracy: 1.0000\n",
            "Epoch 2/50\n",
            "2496/3200 [======================>.......] - ETA: 0s - loss: 0.0033 - accuracy: 0.9988"
          ],
          "name": "stdout"
        },
        {
          "output_type": "stream",
          "text": [
            "/usr/local/lib/python3.6/dist-packages/keras/callbacks/callbacks.py:707: RuntimeWarning: Can save best model only with val_acc available, skipping.\n",
            "  'skipping.' % (self.monitor), RuntimeWarning)\n"
          ],
          "name": "stderr"
        },
        {
          "output_type": "stream",
          "text": [
            "3200/3200 [==============================] - 0s 70us/step - loss: 0.0029 - accuracy: 0.9991 - val_loss: 0.0025 - val_accuracy: 1.0000\n",
            "Epoch 3/50\n",
            "3200/3200 [==============================] - 0s 64us/step - loss: 0.0020 - accuracy: 1.0000 - val_loss: 0.0027 - val_accuracy: 1.0000\n",
            "Epoch 4/50\n",
            "3200/3200 [==============================] - 0s 67us/step - loss: 0.0017 - accuracy: 0.9997 - val_loss: 0.0080 - val_accuracy: 0.9949\n",
            "Epoch 5/50\n",
            "3200/3200 [==============================] - 0s 68us/step - loss: 0.0013 - accuracy: 0.9997 - val_loss: 9.3728e-04 - val_accuracy: 1.0000\n",
            "Epoch 6/50\n",
            "3200/3200 [==============================] - 0s 64us/step - loss: 0.0015 - accuracy: 0.9997 - val_loss: 0.0035 - val_accuracy: 0.9974\n",
            "Epoch 7/50\n",
            "3200/3200 [==============================] - 0s 66us/step - loss: 0.0014 - accuracy: 1.0000 - val_loss: 0.0063 - val_accuracy: 0.9974\n",
            "Epoch 8/50\n",
            "3200/3200 [==============================] - 0s 65us/step - loss: 0.0043 - accuracy: 0.9987 - val_loss: 0.0088 - val_accuracy: 0.9949\n",
            "Epoch 9/50\n",
            "3200/3200 [==============================] - 0s 63us/step - loss: 0.0016 - accuracy: 0.9997 - val_loss: 0.0031 - val_accuracy: 1.0000\n",
            "Epoch 10/50\n",
            "3200/3200 [==============================] - 0s 65us/step - loss: 0.0024 - accuracy: 0.9994 - val_loss: 0.0034 - val_accuracy: 1.0000\n",
            "Epoch 11/50\n",
            "3200/3200 [==============================] - 0s 66us/step - loss: 0.0030 - accuracy: 0.9991 - val_loss: 0.0018 - val_accuracy: 1.0000\n",
            "Epoch 12/50\n",
            "3200/3200 [==============================] - 0s 66us/step - loss: 0.0014 - accuracy: 1.0000 - val_loss: 3.9845e-04 - val_accuracy: 1.0000\n",
            "Epoch 13/50\n",
            "3200/3200 [==============================] - 0s 67us/step - loss: 0.0030 - accuracy: 0.9991 - val_loss: 0.0024 - val_accuracy: 1.0000\n",
            "Epoch 14/50\n",
            "3200/3200 [==============================] - 0s 67us/step - loss: 0.0016 - accuracy: 1.0000 - val_loss: 0.0010 - val_accuracy: 1.0000\n",
            "Epoch 15/50\n",
            "3200/3200 [==============================] - 0s 77us/step - loss: 0.0029 - accuracy: 0.9994 - val_loss: 0.0030 - val_accuracy: 1.0000\n",
            "Epoch 16/50\n",
            "3200/3200 [==============================] - 0s 65us/step - loss: 0.0016 - accuracy: 0.9997 - val_loss: 0.0020 - val_accuracy: 1.0000\n",
            "Epoch 17/50\n",
            "3200/3200 [==============================] - 0s 66us/step - loss: 0.0030 - accuracy: 0.9997 - val_loss: 0.0031 - val_accuracy: 1.0000\n",
            "Epoch 18/50\n",
            "3200/3200 [==============================] - 0s 65us/step - loss: 0.0018 - accuracy: 1.0000 - val_loss: 5.3441e-04 - val_accuracy: 1.0000\n",
            "Epoch 19/50\n",
            "3200/3200 [==============================] - 0s 73us/step - loss: 0.0016 - accuracy: 1.0000 - val_loss: 0.0048 - val_accuracy: 0.9974\n",
            "Epoch 20/50\n",
            "3200/3200 [==============================] - 0s 66us/step - loss: 0.0026 - accuracy: 0.9994 - val_loss: 0.0121 - val_accuracy: 0.9974\n",
            "Epoch 21/50\n",
            "3200/3200 [==============================] - 0s 65us/step - loss: 0.0036 - accuracy: 0.9991 - val_loss: 0.0058 - val_accuracy: 0.9974\n",
            "Epoch 22/50\n",
            "3200/3200 [==============================] - 0s 66us/step - loss: 0.0025 - accuracy: 0.9994 - val_loss: 0.0123 - val_accuracy: 0.9949\n",
            "Epoch 23/50\n",
            "3200/3200 [==============================] - 0s 66us/step - loss: 0.0015 - accuracy: 1.0000 - val_loss: 0.0069 - val_accuracy: 0.9974\n",
            "Epoch 24/50\n",
            "3200/3200 [==============================] - 0s 64us/step - loss: 0.0015 - accuracy: 1.0000 - val_loss: 0.0042 - val_accuracy: 0.9974\n",
            "Epoch 25/50\n",
            "3200/3200 [==============================] - 0s 68us/step - loss: 0.0016 - accuracy: 0.9997 - val_loss: 4.6859e-04 - val_accuracy: 1.0000\n",
            "Epoch 26/50\n",
            "3200/3200 [==============================] - 0s 73us/step - loss: 0.0013 - accuracy: 1.0000 - val_loss: 0.0021 - val_accuracy: 1.0000\n",
            "Epoch 27/50\n",
            "3200/3200 [==============================] - 0s 79us/step - loss: 0.0012 - accuracy: 1.0000 - val_loss: 0.0022 - val_accuracy: 1.0000\n",
            "Epoch 28/50\n",
            "3200/3200 [==============================] - 0s 78us/step - loss: 0.0015 - accuracy: 0.9997 - val_loss: 0.0031 - val_accuracy: 0.9974\n",
            "Epoch 29/50\n",
            "3200/3200 [==============================] - 0s 73us/step - loss: 0.0012 - accuracy: 1.0000 - val_loss: 0.0035 - val_accuracy: 0.9974\n",
            "Epoch 30/50\n",
            "3200/3200 [==============================] - 0s 62us/step - loss: 0.0019 - accuracy: 0.9997 - val_loss: 0.0026 - val_accuracy: 0.9974\n",
            "Epoch 31/50\n",
            "3200/3200 [==============================] - 0s 65us/step - loss: 8.5591e-04 - accuracy: 1.0000 - val_loss: 0.0017 - val_accuracy: 1.0000\n",
            "Epoch 32/50\n",
            "3200/3200 [==============================] - 0s 70us/step - loss: 0.0015 - accuracy: 1.0000 - val_loss: 0.0029 - val_accuracy: 1.0000\n",
            "Epoch 33/50\n",
            "3200/3200 [==============================] - 0s 63us/step - loss: 0.0014 - accuracy: 0.9997 - val_loss: 0.0038 - val_accuracy: 0.9974\n",
            "Epoch 34/50\n",
            "3200/3200 [==============================] - 0s 63us/step - loss: 0.0046 - accuracy: 0.9991 - val_loss: 0.0012 - val_accuracy: 1.0000\n",
            "Epoch 35/50\n",
            "3200/3200 [==============================] - 0s 65us/step - loss: 0.0024 - accuracy: 0.9987 - val_loss: 6.0563e-04 - val_accuracy: 1.0000\n",
            "Epoch 36/50\n",
            "3200/3200 [==============================] - 0s 63us/step - loss: 8.7394e-04 - accuracy: 1.0000 - val_loss: 4.1512e-04 - val_accuracy: 1.0000\n",
            "Epoch 37/50\n",
            "3200/3200 [==============================] - 0s 63us/step - loss: 0.0010 - accuracy: 0.9997 - val_loss: 2.8038e-04 - val_accuracy: 1.0000\n",
            "Epoch 38/50\n",
            "3200/3200 [==============================] - 0s 64us/step - loss: 9.5632e-04 - accuracy: 1.0000 - val_loss: 3.6902e-04 - val_accuracy: 1.0000\n",
            "Epoch 39/50\n",
            "3200/3200 [==============================] - 0s 62us/step - loss: 0.0021 - accuracy: 0.9997 - val_loss: 0.0011 - val_accuracy: 1.0000\n",
            "Epoch 40/50\n",
            "3200/3200 [==============================] - 0s 65us/step - loss: 0.0025 - accuracy: 0.9994 - val_loss: 4.9969e-04 - val_accuracy: 1.0000\n",
            "Epoch 41/50\n",
            "3200/3200 [==============================] - 0s 65us/step - loss: 0.0020 - accuracy: 0.9994 - val_loss: 0.0012 - val_accuracy: 1.0000\n",
            "Epoch 42/50\n",
            "3200/3200 [==============================] - 0s 64us/step - loss: 0.0017 - accuracy: 0.9997 - val_loss: 7.6644e-04 - val_accuracy: 1.0000\n",
            "Epoch 43/50\n",
            "3200/3200 [==============================] - 0s 64us/step - loss: 0.0010 - accuracy: 1.0000 - val_loss: 8.7444e-04 - val_accuracy: 1.0000\n",
            "Epoch 44/50\n",
            "3200/3200 [==============================] - 0s 66us/step - loss: 0.0013 - accuracy: 1.0000 - val_loss: 0.0017 - val_accuracy: 1.0000\n",
            "Epoch 45/50\n",
            "3200/3200 [==============================] - 0s 66us/step - loss: 8.9228e-04 - accuracy: 1.0000 - val_loss: 0.0024 - val_accuracy: 1.0000\n",
            "Epoch 46/50\n",
            "3200/3200 [==============================] - 0s 62us/step - loss: 0.0016 - accuracy: 0.9994 - val_loss: 0.0019 - val_accuracy: 1.0000\n",
            "Epoch 47/50\n",
            "3200/3200 [==============================] - 0s 61us/step - loss: 0.0015 - accuracy: 0.9997 - val_loss: 0.0059 - val_accuracy: 0.9949\n",
            "Epoch 48/50\n",
            "3200/3200 [==============================] - 0s 64us/step - loss: 0.0017 - accuracy: 0.9997 - val_loss: 0.0083 - val_accuracy: 0.9949\n",
            "Epoch 49/50\n",
            "3200/3200 [==============================] - 0s 63us/step - loss: 9.5479e-04 - accuracy: 1.0000 - val_loss: 0.0082 - val_accuracy: 0.9949\n",
            "Epoch 50/50\n",
            "3200/3200 [==============================] - 0s 73us/step - loss: 0.0012 - accuracy: 1.0000 - val_loss: 0.0027 - val_accuracy: 1.0000\n"
          ],
          "name": "stdout"
        }
      ]
    },
    {
      "cell_type": "code",
      "metadata": {
        "id": "mOrCtQ49VBPj",
        "colab_type": "code",
        "colab": {
          "base_uri": "https://localhost:8080/",
          "height": 280
        },
        "outputId": "0011222b-ccd6-4ec4-9bb7-9dc57c759107"
      },
      "source": [
        "fig, ax = plt.subplots(1,2)\n",
        "ax[0].set_title(\"loss function\")\n",
        "ax[0].plot(np.arange(0, 50), His.history['loss'])\n",
        "ax[0].plot(np.arange(0, 50), His.history[\"val_loss\"])\n",
        "ax[0].set_xlabel(\"epochs\")\n",
        "ax[0].set_ylabel(\"error\")\n",
        "ax[0].grid(linestyle = '--')\n",
        "ax[0].legend(['loss', 'val_loss'])\n",
        "ax[1].set_title(\"accuracy\")\n",
        "ax[1].plot(np.arange(0, 50), His.history['accuracy'])\n",
        "ax[1].plot(np.arange(0, 50), His.history['val_accuracy'])\n",
        "ax[1].set_xlabel('epochs')\n",
        "ax[1].set_ylabel('accuracy')\n",
        "ax[1].grid(linestyle = '--')\n",
        "ax[1].legend(['acc', 'val_acc'])\n",
        "plt.tight_layout()\n",
        "saving_image = plt.savefig('plot.png')"
      ],
      "execution_count": 60,
      "outputs": [
        {
          "output_type": "display_data",
          "data": {
            "image/png": "[encoded data removed]",
            "text/plain": [
              "<Figure size 432x288 with 2 Axes>"
            ]
          },
          "metadata": {
            "tags": [],
            "needs_background": "light"
          }
        }
      ]
    },
    {
      "cell_type": "code",
      "metadata": {
        "id": "9l2SX9cVDsQ3",
        "colab_type": "code",
        "colab": {}
      },
      "source": [
        "model.save('action_recognition.hdf5')"
      ],
      "execution_count": 0,
      "outputs": []
    },
    {
      "cell_type": "code",
      "metadata": {
        "id": "hn0oDtdmioey",
        "colab_type": "code",
        "colab": {}
      },
      "source": [
        "save_model = load_model('action_recognition.hdf5')"
      ],
      "execution_count": 0,
      "outputs": []
    },
    {
      "cell_type": "code",
      "metadata": {
        "id": "pEOCBuEBp2xV",
        "colab_type": "code",
        "colab": {
          "base_uri": "https://localhost:8080/",
          "height": 68
        },
        "outputId": "55d6982e-9395-4c96-f8df-8bd4aff992c2"
      },
      "source": [
        "score = save_model.evaluate(X_val, Y_val, verbose = 1)\n",
        "print(score[0],'\\n',score[1])"
      ],
      "execution_count": 32,
      "outputs": [
        {
          "output_type": "stream",
          "text": [
            "324/324 [==============================] - 0s 214us/step\n",
            "0.0020444058542956173 \n",
            " 1.0\n"
          ],
          "name": "stdout"
        }
      ]
    },
    {
      "cell_type": "code",
      "metadata": {
        "id": "F1dLWqWlqEfk",
        "colab_type": "code",
        "colab": {
          "base_uri": "https://localhost:8080/",
          "height": 610
        },
        "outputId": "a8a46883-0b14-473a-d44a-0373025f3f31"
      },
      "source": [
        "font = {\n",
        "    'family' : 'Bitstream Vera Sans',\n",
        "    'weight' : 'bold',\n",
        "    'size'   : 18\n",
        "}\n",
        "plt.rc('font', **font)\n",
        "\n",
        "pred = save_model.predict(X_val, batch_size = 32)\n",
        "confusionMatrix = confusion_matrix(np.argmax(Y_val, axis = 1),np.argmax(pred, axis = 1))\n",
        "df_cm = pd.DataFrame(confusionMatrix, index = [i for i in class_name],\n",
        "                  columns = [i for i in class_name])\n",
        "\n",
        "fig, ax = plt.subplots()\n",
        "ax.xaxis.tick_top()\n",
        "fig.set_size_inches((10,10))\n",
        "sb.heatmap(df_cm,annot=True,ax=ax)\n",
        "plt.savefig('confusion_matrix.png')"
      ],
      "execution_count": 61,
      "outputs": [
        {
          "output_type": "display_data",
          "data": {
            "image/png": "[encoded data removed]",
            "text/plain": [
              "<Figure size 720x720 with 2 Axes>"
            ]
          },
          "metadata": {
            "tags": [],
            "needs_background": "light"
          }
        }
      ]
    }
  ]
}